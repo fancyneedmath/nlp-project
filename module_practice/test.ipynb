{
 "cells": [
  {
   "cell_type": "code",
   "execution_count": 1,
   "metadata": {},
   "outputs": [],
   "source": [
    "def shift(qkv, bsz, q_len, group_size, num_heads, head_dim):\n",
    "    qkv[:, num_heads // 2:] = qkv[:, num_heads // 2:].roll(-group_size // 2, dims=2)\n",
    "    qkv = qkv.transpose(1, 2).reshape(bsz * (q_len // group_size), group_size, num_heads, head_dim).transpose(1, 2)\n",
    "    return qkv"
   ]
  },
  {
   "cell_type": "code",
   "execution_count": 12,
   "metadata": {},
   "outputs": [],
   "source": [
    "nums = [3,5,1,1,1,2,2,3]"
   ]
  },
  {
   "cell_type": "code",
   "execution_count": 15,
   "metadata": {},
   "outputs": [],
   "source": [
    "a = nums.sort()"
   ]
  },
  {
   "cell_type": "code",
   "execution_count": null,
   "metadata": {},
   "outputs": [],
   "source": [
    "from collections import defaultdict"
   ]
  },
  {
   "cell_type": "code",
   "execution_count": 18,
   "metadata": {},
   "outputs": [],
   "source": [
    "letterMap = [\n",
    "            \"\",     # 0\n",
    "            \"\",     # 1\n",
    "            \"abc\",  # 2\n",
    "            \"def\",  # 3\n",
    "            \"ghi\",  # 4\n",
    "            \"jkl\",  # 5\n",
    "            \"mno\",  # 6\n",
    "            \"pqrs\", # 7\n",
    "            \"tuv\",  # 8\n",
    "            \"wxyz\"  # 9\n",
    "        ]"
   ]
  },
  {
   "cell_type": "code",
   "execution_count": null,
   "metadata": {},
   "outputs": [],
   "source": [
    "letterMap"
   ]
  },
  {
   "cell_type": "code",
   "execution_count": null,
   "metadata": {},
   "outputs": [],
   "source": []
  },
  {
   "cell_type": "code",
   "execution_count": null,
   "metadata": {},
   "outputs": [],
   "source": []
  },
  {
   "cell_type": "code",
   "execution_count": 5,
   "metadata": {},
   "outputs": [],
   "source": [
    "\n",
    "dic = {}\n",
    "\n",
    "for i in range(len(nums)):\n",
    "    dic[nums[i]] = dic.get(nums[i],0) + 1"
   ]
  },
  {
   "cell_type": "code",
   "execution_count": 8,
   "metadata": {},
   "outputs": [
    {
     "data": {
      "text/plain": [
       "3"
      ]
     },
     "execution_count": 8,
     "metadata": {},
     "output_type": "execute_result"
    }
   ],
   "source": [
    "nums[i]"
   ]
  },
  {
   "cell_type": "code",
   "execution_count": 10,
   "metadata": {},
   "outputs": [
    {
     "data": {
      "text/plain": [
       "1"
      ]
     },
     "execution_count": 10,
     "metadata": {},
     "output_type": "execute_result"
    }
   ],
   "source": [
    "dic.get(nums[i])"
   ]
  },
  {
   "cell_type": "code",
   "execution_count": 6,
   "metadata": {},
   "outputs": [
    {
     "data": {
      "text/plain": [
       "{1: 3, 2: 2, 3: 1}"
      ]
     },
     "execution_count": 6,
     "metadata": {},
     "output_type": "execute_result"
    }
   ],
   "source": [
    "dic"
   ]
  },
  {
   "cell_type": "code",
   "execution_count": 3,
   "metadata": {},
   "outputs": [],
   "source": [
    "from collections import deque"
   ]
  },
  {
   "cell_type": "code",
   "execution_count": 3,
   "metadata": {},
   "outputs": [
    {
     "data": {
      "text/plain": [
       "3"
      ]
     },
     "execution_count": 3,
     "metadata": {},
     "output_type": "execute_result"
    }
   ],
   "source": [
    "int(eval(f'1+2'))"
   ]
  },
  {
   "cell_type": "code",
   "execution_count": null,
   "metadata": {},
   "outputs": [],
   "source": [
    "class MyQueue:\n",
    "    def __init__(self):\n",
    "        self.que_in = deque()\n",
    "        self.que_out = deque()\n",
    "\n",
    "    def push(self, x: int) -> None:\n",
    "        self.que_in.append(x)\n",
    "    \n",
    "    def pop(self) -> int:\n",
    "        if self.empty():\n",
    "            return None\n",
    "        for i in range(len(self.que_in)-1):\n",
    "            self.que_out.append(self.que_in.popleft())\n",
    "        self.que_in, self.que_out = self.que_out, self.que_in\n",
    "        return self.que_out.popleft()\n",
    "\n",
    "\n",
    "    def top(self) -> int:\n",
    "        if self.empty():\n",
    "            return None\n",
    "        ans = self.que_in[-1]\n",
    "        return ans\n",
    "\n",
    "\n",
    "    def empty(self) -> bool:\n",
    "        return not(self.que_in or self.que_out)\n",
    "\n",
    "\n",
    "        "
   ]
  },
  {
   "cell_type": "code",
   "execution_count": 9,
   "metadata": {},
   "outputs": [
    {
     "name": "stdout",
     "output_type": "stream",
     "text": [
      "1.2007248401641846\n"
     ]
    }
   ],
   "source": [
    "import torch\n",
    "import torch.nn as nn\n",
    "\n",
    "# 定义模型\n",
    "class SimpleModel(nn.Module):\n",
    "    def __init__(self):\n",
    "        super(SimpleModel, self).__init__()\n",
    "        self.linear = nn.Linear(1, 1)  # 一个简单的线性层\n",
    "\n",
    "    def forward(self, x):\n",
    "        return self.linear(x)\n",
    "\n",
    "# 实例化模型和损失函数\n",
    "model = SimpleModel()\n",
    "criterion = nn.MarginRankingLoss(margin=1.0)  # 设置边界值为1.0\n",
    "\n",
    "# 假设我们有两个输入x1和x2，以及它们的正确排序关系y\n",
    "x1 = torch.tensor([[1.0]])\n",
    "x2 = torch.tensor([[2.0]])\n",
    "y = torch.tensor([[-1.0]])  # 我们期望x2大于x1\n",
    "\n",
    "# 计算模型的输出\n",
    "output1 = model(x1)\n",
    "output2 = model(x2)\n",
    "\n",
    "# 计算损失\n",
    "loss = criterion(output1, output2, y)\n",
    "\n",
    "# 打印损失值\n",
    "print(loss.item())\n",
    "\n",
    "# 反向传播和优化\n",
    "loss.backward()\n",
    "# 假设我们有一个优化器\n",
    "# optimizer.step()\n",
    "# optimizer.zero_grad()"
   ]
  },
  {
   "cell_type": "code",
   "execution_count": 15,
   "metadata": {},
   "outputs": [
    {
     "data": {
      "text/plain": [
       "tensor([[-0.1863]], grad_fn=<AddmmBackward0>)"
      ]
     },
     "execution_count": 15,
     "metadata": {},
     "output_type": "execute_result"
    }
   ],
   "source": [
    "output1"
   ]
  },
  {
   "cell_type": "code",
   "execution_count": 14,
   "metadata": {},
   "outputs": [
    {
     "data": {
      "text/plain": [
       "tensor([[-0.3870]], grad_fn=<AddmmBackward0>)"
      ]
     },
     "execution_count": 14,
     "metadata": {},
     "output_type": "execute_result"
    }
   ],
   "source": [
    "output2"
   ]
  },
  {
   "cell_type": "code",
   "execution_count": 20,
   "metadata": {},
   "outputs": [
    {
     "data": {
      "text/plain": [
       "tensor(1.2007, grad_fn=<MeanBackward0>)"
      ]
     },
     "execution_count": 20,
     "metadata": {},
     "output_type": "execute_result"
    }
   ],
   "source": [
    "criterion(output1, output2,  y)"
   ]
  },
  {
   "cell_type": "code",
   "execution_count": 3,
   "metadata": {},
   "outputs": [
    {
     "data": {
      "text/plain": [
       "128"
      ]
     },
     "execution_count": 3,
     "metadata": {},
     "output_type": "execute_result"
    }
   ],
   "source": [
    "2**7"
   ]
  },
  {
   "cell_type": "code",
   "execution_count": 5,
   "metadata": {},
   "outputs": [],
   "source": [
    "\n",
    "llamaconfig = LlamaConfig(vocab_size=32000,\n",
    "                            hidden_size=4096//2,\n",
    "                            intermediate_size=11008//2,\n",
    "                            num_hidden_layers=32//2,\n",
    "                            num_attention_heads=32//2,\n",
    "                            max_position_embeddings=2048//2)"
   ]
  },
  {
   "cell_type": "code",
   "execution_count": 6,
   "metadata": {},
   "outputs": [],
   "source": [
    "import torch\n",
    "from transformers.models.llama import  LlamaModel,LlamaConfig, tokenization_llama\n",
    "inputs_ids = torch.randint(\n",
    "    low=0, high=llamaconfig.vocab_size, size=(4,30)\n",
    ")"
   ]
  },
  {
   "cell_type": "code",
   "execution_count": 10,
   "metadata": {},
   "outputs": [
    {
     "data": {
      "text/plain": [
       "tensor([25335, 31512,  5938,  1857, 21167, 17652, 25922,  6420, 16560,  6122,\n",
       "        23392, 31341, 30285,   962, 14008, 11489, 19566, 13336,  5855, 19045,\n",
       "        26468, 15024, 27491,  5106, 21616, 23265,  1594, 26583, 13288, 16050])"
      ]
     },
     "execution_count": 10,
     "metadata": {},
     "output_type": "execute_result"
    }
   ],
   "source": [
    "inputs_ids[0]"
   ]
  },
  {
   "cell_type": "code",
   "execution_count": 73,
   "metadata": {},
   "outputs": [],
   "source": [
    "import torch\n",
    "\n",
    "bsz = 2\n",
    "num_heads = 4\n",
    "q_len =6\n",
    "head_dim = 3\n",
    "group_size = 2\n",
    "\n",
    "qkv = torch.arange(bsz * num_heads * q_len * head_dim).reshape(bsz, num_heads, q_len, head_dim)"
   ]
  },
  {
   "cell_type": "code",
   "execution_count": 67,
   "metadata": {},
   "outputs": [
    {
     "data": {
      "text/plain": [
       "torch.Size([2, 4, 6, 3])"
      ]
     },
     "execution_count": 67,
     "metadata": {},
     "output_type": "execute_result"
    }
   ],
   "source": [
    "qkv.shape"
   ]
  },
  {
   "cell_type": "code",
   "execution_count": 74,
   "metadata": {},
   "outputs": [],
   "source": [
    "qkv[:, num_heads // 2:] = qkv[:, num_heads // 2:].roll(-4 // 2, dims=2)"
   ]
  },
  {
   "cell_type": "code",
   "execution_count": 75,
   "metadata": {},
   "outputs": [
    {
     "data": {
      "text/plain": [
       "tensor([[[[  0,   1,   2],\n",
       "          [  3,   4,   5],\n",
       "          [  6,   7,   8],\n",
       "          [  9,  10,  11],\n",
       "          [ 12,  13,  14],\n",
       "          [ 15,  16,  17]],\n",
       "\n",
       "         [[ 18,  19,  20],\n",
       "          [ 21,  22,  23],\n",
       "          [ 24,  25,  26],\n",
       "          [ 27,  28,  29],\n",
       "          [ 30,  31,  32],\n",
       "          [ 33,  34,  35]],\n",
       "\n",
       "         [[ 42,  43,  44],\n",
       "          [ 45,  46,  47],\n",
       "          [ 48,  49,  50],\n",
       "          [ 51,  52,  53],\n",
       "          [ 36,  37,  38],\n",
       "          [ 39,  40,  41]],\n",
       "\n",
       "         [[ 60,  61,  62],\n",
       "          [ 63,  64,  65],\n",
       "          [ 66,  67,  68],\n",
       "          [ 69,  70,  71],\n",
       "          [ 54,  55,  56],\n",
       "          [ 57,  58,  59]]],\n",
       "\n",
       "\n",
       "        [[[ 72,  73,  74],\n",
       "          [ 75,  76,  77],\n",
       "          [ 78,  79,  80],\n",
       "          [ 81,  82,  83],\n",
       "          [ 84,  85,  86],\n",
       "          [ 87,  88,  89]],\n",
       "\n",
       "         [[ 90,  91,  92],\n",
       "          [ 93,  94,  95],\n",
       "          [ 96,  97,  98],\n",
       "          [ 99, 100, 101],\n",
       "          [102, 103, 104],\n",
       "          [105, 106, 107]],\n",
       "\n",
       "         [[114, 115, 116],\n",
       "          [117, 118, 119],\n",
       "          [120, 121, 122],\n",
       "          [123, 124, 125],\n",
       "          [108, 109, 110],\n",
       "          [111, 112, 113]],\n",
       "\n",
       "         [[132, 133, 134],\n",
       "          [135, 136, 137],\n",
       "          [138, 139, 140],\n",
       "          [141, 142, 143],\n",
       "          [126, 127, 128],\n",
       "          [129, 130, 131]]]])"
      ]
     },
     "execution_count": 75,
     "metadata": {},
     "output_type": "execute_result"
    }
   ],
   "source": [
    "qkv"
   ]
  },
  {
   "cell_type": "code",
   "execution_count": 70,
   "metadata": {},
   "outputs": [
    {
     "data": {
      "text/plain": [
       "torch.Size([6, 4, 2, 3])"
      ]
     },
     "execution_count": 70,
     "metadata": {},
     "output_type": "execute_result"
    }
   ],
   "source": [
    "qkv.transpose(1, 2).reshape(bsz * (q_len // group_size), group_size, num_heads, head_dim).transpose(1, 2).shape"
   ]
  },
  {
   "cell_type": "code",
   "execution_count": 71,
   "metadata": {},
   "outputs": [],
   "source": [
    "qkv = qkv.transpose(1, 2).reshape(bsz * (q_len // group_size), group_size, num_heads, head_dim).transpose(1, 2)"
   ]
  },
  {
   "cell_type": "code",
   "execution_count": 72,
   "metadata": {},
   "outputs": [
    {
     "data": {
      "text/plain": [
       "tensor([[[[  0,   1,   2],\n",
       "          [  3,   4,   5]],\n",
       "\n",
       "         [[ 18,  19,  20],\n",
       "          [ 21,  22,  23]],\n",
       "\n",
       "         [[ 39,  40,  41],\n",
       "          [ 42,  43,  44]],\n",
       "\n",
       "         [[ 57,  58,  59],\n",
       "          [ 60,  61,  62]]],\n",
       "\n",
       "\n",
       "        [[[  6,   7,   8],\n",
       "          [  9,  10,  11]],\n",
       "\n",
       "         [[ 24,  25,  26],\n",
       "          [ 27,  28,  29]],\n",
       "\n",
       "         [[ 45,  46,  47],\n",
       "          [ 48,  49,  50]],\n",
       "\n",
       "         [[ 63,  64,  65],\n",
       "          [ 66,  67,  68]]],\n",
       "\n",
       "\n",
       "        [[[ 12,  13,  14],\n",
       "          [ 15,  16,  17]],\n",
       "\n",
       "         [[ 30,  31,  32],\n",
       "          [ 33,  34,  35]],\n",
       "\n",
       "         [[ 51,  52,  53],\n",
       "          [ 36,  37,  38]],\n",
       "\n",
       "         [[ 69,  70,  71],\n",
       "          [ 54,  55,  56]]],\n",
       "\n",
       "\n",
       "        [[[ 72,  73,  74],\n",
       "          [ 75,  76,  77]],\n",
       "\n",
       "         [[ 90,  91,  92],\n",
       "          [ 93,  94,  95]],\n",
       "\n",
       "         [[111, 112, 113],\n",
       "          [114, 115, 116]],\n",
       "\n",
       "         [[129, 130, 131],\n",
       "          [132, 133, 134]]],\n",
       "\n",
       "\n",
       "        [[[ 78,  79,  80],\n",
       "          [ 81,  82,  83]],\n",
       "\n",
       "         [[ 96,  97,  98],\n",
       "          [ 99, 100, 101]],\n",
       "\n",
       "         [[117, 118, 119],\n",
       "          [120, 121, 122]],\n",
       "\n",
       "         [[135, 136, 137],\n",
       "          [138, 139, 140]]],\n",
       "\n",
       "\n",
       "        [[[ 84,  85,  86],\n",
       "          [ 87,  88,  89]],\n",
       "\n",
       "         [[102, 103, 104],\n",
       "          [105, 106, 107]],\n",
       "\n",
       "         [[123, 124, 125],\n",
       "          [108, 109, 110]],\n",
       "\n",
       "         [[141, 142, 143],\n",
       "          [126, 127, 128]]]])"
      ]
     },
     "execution_count": 72,
     "metadata": {},
     "output_type": "execute_result"
    }
   ],
   "source": [
    "qkv"
   ]
  },
  {
   "cell_type": "code",
   "execution_count": 1,
   "metadata": {},
   "outputs": [],
   "source": [
    "import torch\n"
   ]
  },
  {
   "cell_type": "code",
   "execution_count": 12,
   "metadata": {},
   "outputs": [
    {
     "data": {
      "text/plain": [
       "tensor([[0.0000e+00],\n",
       "        [1.0000e+00],\n",
       "        [2.0000e+00],\n",
       "        ...,\n",
       "        [4.9970e+03],\n",
       "        [4.9980e+03],\n",
       "        [4.9990e+03]])"
      ]
     },
     "execution_count": 12,
     "metadata": {},
     "output_type": "execute_result"
    }
   ],
   "source": [
    "torch.arange(0, 5000, dtype=torch.float).unsqueeze(1)"
   ]
  },
  {
   "cell_type": "code",
   "execution_count": 17,
   "metadata": {},
   "outputs": [],
   "source": [
    "from transformers import LlamaModel"
   ]
  },
  {
   "cell_type": "code",
   "execution_count": 16,
   "metadata": {},
   "outputs": [
    {
     "name": "stdout",
     "output_type": "stream",
     "text": [
      "New embeddings shape: torch.Size([2, 5, 2, 3, 4])\n"
     ]
    }
   ],
   "source": [
    "import torch\n",
    "\n",
    "# 假设 embeddings 的形状是 [2, 3, 4]\n",
    "embeddings = torch.randn(2, 3, 4)\n",
    "\n",
    "# 设置 batch_size 和 nums_head\n",
    "batch_size = 2\n",
    "nums_head = 5\n",
    "\n",
    "# 使用 repeat 扩展形状\n",
    "embeddings = embeddings.repeat((batch_size, nums_head, *([1] * len(embeddings.shape))))\n",
    "\n",
    "# 输出结果的形状\n",
    "print(\"New embeddings shape:\", embeddings.shape)\n"
   ]
  },
  {
   "cell_type": "code",
   "execution_count": 15,
   "metadata": {},
   "outputs": [
    {
     "name": "stdout",
     "output_type": "stream",
     "text": [
      "Result shape: torch.Size([2, 3, 4, 2])\n",
      "Result tensor:\n",
      "tensor([[[[ 0.0000,  1.0000],\n",
      "          [ 0.8415,  0.5403],\n",
      "          [ 0.9093, -0.4161],\n",
      "          [ 0.1411, -0.9900]],\n",
      "\n",
      "         [[-0.7568, -0.6536],\n",
      "          [-0.9589,  0.2837],\n",
      "          [-0.2794,  0.9602],\n",
      "          [ 0.6570,  0.7539]],\n",
      "\n",
      "         [[ 0.9894, -0.1455],\n",
      "          [ 0.4121, -0.9111],\n",
      "          [-0.5440, -0.8391],\n",
      "          [-1.0000,  0.0044]]],\n",
      "\n",
      "\n",
      "        [[[-0.5366,  0.8439],\n",
      "          [ 0.4202,  0.9074],\n",
      "          [ 0.9906,  0.1367],\n",
      "          [ 0.6503, -0.7597]],\n",
      "\n",
      "         [[-0.2879, -0.9577],\n",
      "          [-0.9614, -0.2752],\n",
      "          [-0.7510,  0.6603],\n",
      "          [ 0.1499,  0.9887]],\n",
      "\n",
      "         [[ 0.9129,  0.4081],\n",
      "          [ 0.8367, -0.5477],\n",
      "          [-0.0089, -1.0000],\n",
      "          [-0.8462, -0.5328]]]])\n"
     ]
    }
   ],
   "source": [
    "def sinusoidal_position_embedding(batch_size, nums_head, max_len, output_dim, device):\n",
    "\n",
    "max_position_embedding=2048\n",
    "base=10000\n",
    "device=None\n",
    "scaling_factor=1.0   \n",
    "# (max_len, 1)\n",
    "position = torch.arange(0, max_len, dtype=torch.float).unsqueeze(-1)\n",
    "\n",
    "# (output_dim//2)\n",
    "# 即公式里的i, i的范围是 [0,d/2]\n",
    "ids = torch.arange(0, output_dim // 2, dtype=torch.float)  \n",
    "theta = torch.pow(10000, -2 * ids / output_dim)\n",
    "\n",
    "# (max_len, output_dim//2)\n",
    "# 即公式里的：pos / (10000^(2i/d))\n",
    "embeddings = position * theta \n",
    "\n",
    "# (max_len, output_dim//2, 2)\n",
    "embeddings = torch.stack([torch.sin(embeddings), torch.cos(embeddings)], dim=-1)\n",
    "\n",
    "# (bs, head, max_len, output_dim//2, 2)\n",
    "# 在bs维度重复，其他维度都是1不重复\n",
    "embeddings = embeddings.repeat((batch_size, nums_head, *([1] * len(embeddings.shape))))  \n",
    "\n",
    "# (bs, head, max_len, output_dim)\n",
    "# reshape后就是：偶数sin, 奇数cos了\n",
    "embeddings = torch.reshape(embeddings, (batch_size, nums_head, max_len, output_dim))\n",
    "embeddings = embeddings.to(device)\n",
    "\n"
   ]
  },
  {
   "cell_type": "code",
   "execution_count": 9,
   "metadata": {},
   "outputs": [
    {
     "name": "stdout",
     "output_type": "stream",
     "text": [
      "torch.Size([3])\n",
      "tensor([[1, 2, 3]])\n",
      "tensor([[1],\n",
      "        [2],\n",
      "        [3]])\n"
     ]
    }
   ],
   "source": [
    "import torch\n",
    "\n",
    "# 创建一个 1D 张量\n",
    "x = torch.tensor([1, 2, 3])\n",
    "print(x.shape)  # torch.Size([3])\n",
    "\n",
    "# 在第 0 维增加一个维度\n",
    "x_unsqueeze = torch.unsqueeze(x, 0)\n",
    "print(x_unsqueeze)  # torch.Size([1, 3])\n",
    "\n",
    "# 在第 1 维增加一个维度\n",
    "x_unsqueeze = torch.unsqueeze(x, 1)\n",
    "print(x_unsqueeze)  # torch.Size([3, 1])\n"
   ]
  },
  {
   "cell_type": "code",
   "execution_count": 76,
   "metadata": {},
   "outputs": [],
   "source": [
    "def sinusodial_position_embedding(batch_size, nums_head, max_len, output_dim, device):\n",
    "     \n",
    "    position = torch.arange(0, max_len, dtype=torch.float).unsqueeze(-1)\n",
    " \n",
    "    # (output_dim//2)\n",
    "    # 即公式里的i, i的范围是 [0,d/2]\n",
    "    ids = torch.arange(0, output_dim//2, dtype=torch.float)  \n",
    "    theta = torch.pow(10000, -2 * ids / output_dim)\n",
    " \n",
    "    # (max_len, output_dim//2)\n",
    "    # 即公式里的：pos / (10000^(2i/d))\n",
    "    embeddings = position * theta \n",
    " \n",
    "    # (max_len, output_dim//2, 2)\n",
    "    embeddings = torch.stack([torch.sin(embeddings), torch.cos(embeddings)], dim=-1)\n",
    " \n",
    "    # (bs, head, max_len, output_dim//2, 2)\n",
    "    # 在bs维度重复，其他维度都是1不重复\n",
    "    embeddings = embeddings.repeat((batch_size, nums_head, *([1] * len(embeddings.shape))))  \n",
    " \n",
    "    # (bs, head, max_len, output_dim)\n",
    "    # reshape后就是：偶数sin, 奇数cos了\n",
    "    embeddings = torch.reshape(embeddings, (batch_size, nums_head, max_len, output_dim))\n",
    "    embeddings = embeddings.to(device)\n",
    "\n",
    "    return embeddings"
   ]
  },
  {
   "cell_type": "code",
   "execution_count": 89,
   "metadata": {},
   "outputs": [
    {
     "data": {
      "text/plain": [
       "tensor([  0.,   2.,   4.,   6.,   8.,  10.,  12.,  14.,  16.,  18.,  20.,  22.,\n",
       "         24.,  26.,  28.,  30.,  32.,  34.,  36.,  38.,  40.,  42.,  44.,  46.,\n",
       "         48.,  50.,  52.,  54.,  56.,  58.,  60.,  62.,  64.,  66.,  68.,  70.,\n",
       "         72.,  74.,  76.,  78.,  80.,  82.,  84.,  86.,  88.,  90.,  92.,  94.,\n",
       "         96.,  98., 100., 102., 104., 106., 108., 110., 112., 114., 116., 118.,\n",
       "        120., 122., 124., 126., 128., 130., 132., 134., 136., 138., 140., 142.,\n",
       "        144., 146., 148., 150., 152., 154., 156., 158., 160., 162., 164., 166.,\n",
       "        168., 170., 172., 174., 176., 178., 180., 182., 184., 186., 188., 190.,\n",
       "        192., 194., 196., 198., 200., 202., 204., 206., 208., 210., 212., 214.,\n",
       "        216., 218., 220., 222., 224., 226., 228., 230., 232., 234., 236., 238.,\n",
       "        240., 242., 244., 246., 248., 250., 252., 254., 256., 258., 260., 262.,\n",
       "        264., 266., 268., 270., 272., 274., 276., 278., 280., 282., 284., 286.,\n",
       "        288., 290., 292., 294., 296., 298., 300., 302., 304., 306., 308., 310.,\n",
       "        312., 314., 316., 318., 320., 322., 324., 326., 328., 330., 332., 334.,\n",
       "        336., 338., 340., 342., 344., 346., 348., 350., 352., 354., 356., 358.,\n",
       "        360., 362., 364., 366., 368., 370., 372., 374., 376., 378., 380., 382.,\n",
       "        384., 386., 388., 390., 392., 394., 396., 398., 400., 402., 404., 406.,\n",
       "        408., 410., 412., 414., 416., 418., 420., 422., 424., 426., 428., 430.,\n",
       "        432., 434., 436., 438., 440., 442., 444., 446., 448., 450., 452., 454.,\n",
       "        456., 458., 460., 462., 464., 466., 468., 470., 472., 474., 476., 478.,\n",
       "        480., 482., 484., 486., 488., 490., 492., 494., 496., 498., 500., 502.,\n",
       "        504., 506., 508., 510.])"
      ]
     },
     "execution_count": 89,
     "metadata": {},
     "output_type": "execute_result"
    }
   ],
   "source": [
    "torch.arange(0, output_dim, 2, dtype=torch.int64).float() "
   ]
  },
  {
   "cell_type": "code",
   "execution_count": 88,
   "metadata": {},
   "outputs": [
    {
     "data": {
      "text/plain": [
       "tensor([0.0000, 0.0039, 0.0078, 0.0117, 0.0156, 0.0195, 0.0234, 0.0273, 0.0312,\n",
       "        0.0352, 0.0391, 0.0430, 0.0469, 0.0508, 0.0547, 0.0586, 0.0625, 0.0664,\n",
       "        0.0703, 0.0742, 0.0781, 0.0820, 0.0859, 0.0898, 0.0938, 0.0977, 0.1016,\n",
       "        0.1055, 0.1094, 0.1133, 0.1172, 0.1211, 0.1250, 0.1289, 0.1328, 0.1367,\n",
       "        0.1406, 0.1445, 0.1484, 0.1523, 0.1562, 0.1602, 0.1641, 0.1680, 0.1719,\n",
       "        0.1758, 0.1797, 0.1836, 0.1875, 0.1914, 0.1953, 0.1992, 0.2031, 0.2070,\n",
       "        0.2109, 0.2148, 0.2188, 0.2227, 0.2266, 0.2305, 0.2344, 0.2383, 0.2422,\n",
       "        0.2461, 0.2500, 0.2539, 0.2578, 0.2617, 0.2656, 0.2695, 0.2734, 0.2773,\n",
       "        0.2812, 0.2852, 0.2891, 0.2930, 0.2969, 0.3008, 0.3047, 0.3086, 0.3125,\n",
       "        0.3164, 0.3203, 0.3242, 0.3281, 0.3320, 0.3359, 0.3398, 0.3438, 0.3477,\n",
       "        0.3516, 0.3555, 0.3594, 0.3633, 0.3672, 0.3711, 0.3750, 0.3789, 0.3828,\n",
       "        0.3867, 0.3906, 0.3945, 0.3984, 0.4023, 0.4062, 0.4102, 0.4141, 0.4180,\n",
       "        0.4219, 0.4258, 0.4297, 0.4336, 0.4375, 0.4414, 0.4453, 0.4492, 0.4531,\n",
       "        0.4570, 0.4609, 0.4648, 0.4688, 0.4727, 0.4766, 0.4805, 0.4844, 0.4883,\n",
       "        0.4922, 0.4961, 0.5000, 0.5039, 0.5078, 0.5117, 0.5156, 0.5195, 0.5234,\n",
       "        0.5273, 0.5312, 0.5352, 0.5391, 0.5430, 0.5469, 0.5508, 0.5547, 0.5586,\n",
       "        0.5625, 0.5664, 0.5703, 0.5742, 0.5781, 0.5820, 0.5859, 0.5898, 0.5938,\n",
       "        0.5977, 0.6016, 0.6055, 0.6094, 0.6133, 0.6172, 0.6211, 0.6250, 0.6289,\n",
       "        0.6328, 0.6367, 0.6406, 0.6445, 0.6484, 0.6523, 0.6562, 0.6602, 0.6641,\n",
       "        0.6680, 0.6719, 0.6758, 0.6797, 0.6836, 0.6875, 0.6914, 0.6953, 0.6992,\n",
       "        0.7031, 0.7070, 0.7109, 0.7148, 0.7188, 0.7227, 0.7266, 0.7305, 0.7344,\n",
       "        0.7383, 0.7422, 0.7461, 0.7500, 0.7539, 0.7578, 0.7617, 0.7656, 0.7695,\n",
       "        0.7734, 0.7773, 0.7812, 0.7852, 0.7891, 0.7930, 0.7969, 0.8008, 0.8047,\n",
       "        0.8086, 0.8125, 0.8164, 0.8203, 0.8242, 0.8281, 0.8320, 0.8359, 0.8398,\n",
       "        0.8438, 0.8477, 0.8516, 0.8555, 0.8594, 0.8633, 0.8672, 0.8711, 0.8750,\n",
       "        0.8789, 0.8828, 0.8867, 0.8906, 0.8945, 0.8984, 0.9023, 0.9062, 0.9102,\n",
       "        0.9141, 0.9180, 0.9219, 0.9258, 0.9297, 0.9336, 0.9375, 0.9414, 0.9453,\n",
       "        0.9492, 0.9531, 0.9570, 0.9609, 0.9648, 0.9688, 0.9727, 0.9766, 0.9805,\n",
       "        0.9844, 0.9883, 0.9922, 0.9961])"
      ]
     },
     "execution_count": 88,
     "metadata": {},
     "output_type": "execute_result"
    }
   ],
   "source": [
    "(torch.arange(0, output_dim, 2, dtype=torch.int64).float() / output_dim)"
   ]
  },
  {
   "cell_type": "code",
   "execution_count": 81,
   "metadata": {},
   "outputs": [],
   "source": [
    "output_dim = 512"
   ]
  },
  {
   "cell_type": "code",
   "execution_count": 84,
   "metadata": {},
   "outputs": [
    {
     "data": {
      "text/plain": [
       "tensor([1.0000e+00, 9.6466e-01, 9.3057e-01, 8.9769e-01, 8.6596e-01, 8.3536e-01,\n",
       "        8.0584e-01, 7.7737e-01, 7.4989e-01, 7.2339e-01, 6.9783e-01, 6.7317e-01,\n",
       "        6.4938e-01, 6.2643e-01, 6.0430e-01, 5.8294e-01, 5.6234e-01, 5.4247e-01,\n",
       "        5.2330e-01, 5.0481e-01, 4.8697e-01, 4.6976e-01, 4.5316e-01, 4.3714e-01,\n",
       "        4.2170e-01, 4.0679e-01, 3.9242e-01, 3.7855e-01, 3.6517e-01, 3.5227e-01,\n",
       "        3.3982e-01, 3.2781e-01, 3.1623e-01, 3.0505e-01, 2.9427e-01, 2.8387e-01,\n",
       "        2.7384e-01, 2.6416e-01, 2.5483e-01, 2.4582e-01, 2.3714e-01, 2.2876e-01,\n",
       "        2.2067e-01, 2.1288e-01, 2.0535e-01, 1.9810e-01, 1.9110e-01, 1.8434e-01,\n",
       "        1.7783e-01, 1.7154e-01, 1.6548e-01, 1.5963e-01, 1.5399e-01, 1.4855e-01,\n",
       "        1.4330e-01, 1.3824e-01, 1.3335e-01, 1.2864e-01, 1.2409e-01, 1.1971e-01,\n",
       "        1.1548e-01, 1.1140e-01, 1.0746e-01, 1.0366e-01, 1.0000e-01, 9.6466e-02,\n",
       "        9.3057e-02, 8.9769e-02, 8.6596e-02, 8.3536e-02, 8.0584e-02, 7.7737e-02,\n",
       "        7.4989e-02, 7.2339e-02, 6.9783e-02, 6.7317e-02, 6.4938e-02, 6.2643e-02,\n",
       "        6.0430e-02, 5.8294e-02, 5.6234e-02, 5.4247e-02, 5.2330e-02, 5.0481e-02,\n",
       "        4.8697e-02, 4.6976e-02, 4.5316e-02, 4.3714e-02, 4.2170e-02, 4.0679e-02,\n",
       "        3.9242e-02, 3.7855e-02, 3.6517e-02, 3.5227e-02, 3.3982e-02, 3.2781e-02,\n",
       "        3.1623e-02, 3.0505e-02, 2.9427e-02, 2.8387e-02, 2.7384e-02, 2.6416e-02,\n",
       "        2.5483e-02, 2.4582e-02, 2.3714e-02, 2.2876e-02, 2.2067e-02, 2.1288e-02,\n",
       "        2.0535e-02, 1.9810e-02, 1.9110e-02, 1.8434e-02, 1.7783e-02, 1.7154e-02,\n",
       "        1.6548e-02, 1.5963e-02, 1.5399e-02, 1.4855e-02, 1.4330e-02, 1.3824e-02,\n",
       "        1.3335e-02, 1.2864e-02, 1.2409e-02, 1.1971e-02, 1.1548e-02, 1.1140e-02,\n",
       "        1.0746e-02, 1.0366e-02, 1.0000e-02, 9.6466e-03, 9.3057e-03, 8.9769e-03,\n",
       "        8.6596e-03, 8.3536e-03, 8.0584e-03, 7.7737e-03, 7.4989e-03, 7.2339e-03,\n",
       "        6.9783e-03, 6.7317e-03, 6.4938e-03, 6.2643e-03, 6.0430e-03, 5.8294e-03,\n",
       "        5.6234e-03, 5.4247e-03, 5.2330e-03, 5.0481e-03, 4.8697e-03, 4.6976e-03,\n",
       "        4.5316e-03, 4.3714e-03, 4.2170e-03, 4.0679e-03, 3.9242e-03, 3.7855e-03,\n",
       "        3.6517e-03, 3.5227e-03, 3.3982e-03, 3.2781e-03, 3.1623e-03, 3.0505e-03,\n",
       "        2.9427e-03, 2.8387e-03, 2.7384e-03, 2.6416e-03, 2.5483e-03, 2.4582e-03,\n",
       "        2.3714e-03, 2.2876e-03, 2.2067e-03, 2.1288e-03, 2.0535e-03, 1.9810e-03,\n",
       "        1.9110e-03, 1.8434e-03, 1.7783e-03, 1.7154e-03, 1.6548e-03, 1.5963e-03,\n",
       "        1.5399e-03, 1.4855e-03, 1.4330e-03, 1.3824e-03, 1.3335e-03, 1.2864e-03,\n",
       "        1.2409e-03, 1.1971e-03, 1.1548e-03, 1.1140e-03, 1.0746e-03, 1.0366e-03,\n",
       "        1.0000e-03, 9.6466e-04, 9.3057e-04, 8.9769e-04, 8.6596e-04, 8.3536e-04,\n",
       "        8.0584e-04, 7.7737e-04, 7.4989e-04, 7.2339e-04, 6.9783e-04, 6.7317e-04,\n",
       "        6.4938e-04, 6.2643e-04, 6.0430e-04, 5.8294e-04, 5.6234e-04, 5.4247e-04,\n",
       "        5.2330e-04, 5.0481e-04, 4.8697e-04, 4.6976e-04, 4.5316e-04, 4.3714e-04,\n",
       "        4.2170e-04, 4.0679e-04, 3.9242e-04, 3.7855e-04, 3.6517e-04, 3.5227e-04,\n",
       "        3.3982e-04, 3.2781e-04, 3.1623e-04, 3.0505e-04, 2.9427e-04, 2.8387e-04,\n",
       "        2.7384e-04, 2.6416e-04, 2.5483e-04, 2.4582e-04, 2.3714e-04, 2.2876e-04,\n",
       "        2.2067e-04, 2.1288e-04, 2.0535e-04, 1.9810e-04, 1.9110e-04, 1.8434e-04,\n",
       "        1.7783e-04, 1.7154e-04, 1.6548e-04, 1.5963e-04, 1.5399e-04, 1.4855e-04,\n",
       "        1.4330e-04, 1.3824e-04, 1.3335e-04, 1.2864e-04, 1.2409e-04, 1.1971e-04,\n",
       "        1.1548e-04, 1.1140e-04, 1.0746e-04, 1.0366e-04])"
      ]
     },
     "execution_count": 84,
     "metadata": {},
     "output_type": "execute_result"
    }
   ],
   "source": [
    "def _set_cos_sin_cache(self, seq_len, device, dtype):\n",
    "    self.max_seq_len_cached = seq_len\n",
    "    t = torch.arange(self.max_seq_len_cached, device=device, dtype=self.inv_freq.dtype)\n",
    "\n",
    "    freqs = torch.outer(t, self.inv_freq)\n",
    "    # Different from paper, but it uses a different permutation in order to obtain the same calculation\n",
    "    emb = torch.cat((freqs, freqs), dim=-1)\n",
    "    self.register_buffer(\"cos_cached\", emb.cos().to(dtype), persistent=False)\n",
    "    self.register_buffer(\"sin_cached\", emb.sin().to(dtype), persistent=False)"
   ]
  },
  {
   "cell_type": "code",
   "execution_count": 101,
   "metadata": {},
   "outputs": [
    {
     "data": {
      "text/plain": [
       "torch.Size([384])"
      ]
     },
     "execution_count": 101,
     "metadata": {},
     "output_type": "execute_result"
    }
   ],
   "source": [
    "torch.arange(0, 768, 2).shape"
   ]
  },
  {
   "cell_type": "code",
   "execution_count": 95,
   "metadata": {},
   "outputs": [],
   "source": [
    "p = PositionalEncoding(d_model=768, dropout=0.1)"
   ]
  },
  {
   "cell_type": "code",
   "execution_count": 102,
   "metadata": {},
   "outputs": [],
   "source": [
    "# 注意，这只是一个简化的例子，真实的位置嵌入的值会有所不同。\n",
    "pos_emb = torch.tensor([[[[0.0000, 0.8415, 0.9093, 0.1411, 1.0000, 0.5403, -0.4161, -0.9900],\n",
    "                          [0.8415, 0.5403, 0.1411, -0.7568, 0.5403, -0.8415, -0.9900, -0.6536],\n",
    "                          [0.9093, -0.4161, -0.8415, -0.9589, -0.4161, -0.9093, -0.6536, 0.2836]]]])"
   ]
  },
  {
   "cell_type": "code",
   "execution_count": 3,
   "metadata": {},
   "outputs": [],
   "source": [
    "import torch\n",
    "from torch import nn"
   ]
  },
  {
   "cell_type": "code",
   "execution_count": 8,
   "metadata": {},
   "outputs": [
    {
     "data": {
      "text/plain": [
       "tensor([  0,   2,   4,   6,   8,  10,  12,  14,  16,  18,  20,  22,  24,  26,\n",
       "         28,  30,  32,  34,  36,  38,  40,  42,  44,  46,  48,  50,  52,  54,\n",
       "         56,  58,  60,  62,  64,  66,  68,  70,  72,  74,  76,  78,  80,  82,\n",
       "         84,  86,  88,  90,  92,  94,  96,  98, 100, 102, 104, 106, 108, 110,\n",
       "        112, 114, 116, 118, 120, 122, 124, 126, 128, 130, 132, 134, 136, 138,\n",
       "        140, 142, 144, 146, 148, 150, 152, 154, 156, 158, 160, 162, 164, 166,\n",
       "        168, 170, 172, 174, 176, 178, 180, 182, 184, 186, 188, 190, 192, 194,\n",
       "        196, 198, 200, 202, 204, 206, 208, 210, 212, 214, 216, 218, 220, 222,\n",
       "        224, 226, 228, 230, 232, 234, 236, 238, 240, 242, 244, 246, 248, 250,\n",
       "        252, 254, 256, 258, 260, 262, 264, 266, 268, 270, 272, 274, 276, 278,\n",
       "        280, 282, 284, 286, 288, 290, 292, 294, 296, 298, 300, 302, 304, 306,\n",
       "        308, 310, 312, 314, 316, 318, 320, 322, 324, 326, 328, 330, 332, 334,\n",
       "        336, 338, 340, 342, 344, 346, 348, 350, 352, 354, 356, 358, 360, 362,\n",
       "        364, 366, 368, 370, 372, 374, 376, 378, 380, 382, 384, 386, 388, 390,\n",
       "        392, 394, 396, 398, 400, 402, 404, 406, 408, 410, 412, 414, 416, 418,\n",
       "        420, 422, 424, 426, 428, 430, 432, 434, 436, 438, 440, 442, 444, 446,\n",
       "        448, 450, 452, 454, 456, 458, 460, 462, 464, 466, 468, 470, 472, 474,\n",
       "        476, 478, 480, 482, 484, 486, 488, 490, 492, 494, 496, 498, 500, 502,\n",
       "        504, 506, 508, 510])"
      ]
     },
     "execution_count": 8,
     "metadata": {},
     "output_type": "execute_result"
    }
   ],
   "source": [
    "torch.arange(0, 512, 2, dtype=torch.int64)"
   ]
  },
  {
   "cell_type": "code",
   "execution_count": 6,
   "metadata": {},
   "outputs": [
    {
     "data": {
      "text/plain": [
       "torch.Size([256])"
      ]
     },
     "execution_count": 6,
     "metadata": {},
     "output_type": "execute_result"
    }
   ],
   "source": [
    "a = 1.0 / (10000 ** (torch.arange(0, 512, 2, dtype=torch.int64).float()/512))\n",
    "a.shape"
   ]
  },
  {
   "cell_type": "code",
   "execution_count": 42,
   "metadata": {},
   "outputs": [
    {
     "data": {
      "text/plain": [
       "tensor([[-2., -4.],\n",
       "        [-6., -8.]])"
      ]
     },
     "execution_count": 42,
     "metadata": {},
     "output_type": "execute_result"
    }
   ],
   "source": [
    "-x[..., 1::2]"
   ]
  },
  {
   "cell_type": "code",
   "execution_count": 43,
   "metadata": {},
   "outputs": [
    {
     "data": {
      "text/plain": [
       "tensor([[1., 3.],\n",
       "        [5., 7.]])"
      ]
     },
     "execution_count": 43,
     "metadata": {},
     "output_type": "execute_result"
    }
   ],
   "source": [
    "x[..., ::2]"
   ]
  },
  {
   "cell_type": "code",
   "execution_count": null,
   "metadata": {},
   "outputs": [],
   "source": [
    "x = torch.tensor([[1.0, 2.0, 3.0, 4.0],\n",
    "                  [5.0, 6.0, 7.0, 8.0]])"
   ]
  },
  {
   "cell_type": "code",
   "execution_count": 41,
   "metadata": {},
   "outputs": [
    {
     "data": {
      "text/plain": [
       "torch.Size([2, 4])"
      ]
     },
     "execution_count": 41,
     "metadata": {},
     "output_type": "execute_result"
    }
   ],
   "source": [
    "x.shape"
   ]
  },
  {
   "cell_type": "code",
   "execution_count": 30,
   "metadata": {},
   "outputs": [
    {
     "data": {
      "text/plain": [
       "tensor([[-2.,  1., -4.,  3.],\n",
       "        [-6.,  5., -8.,  7.]])"
      ]
     },
     "execution_count": 30,
     "metadata": {},
     "output_type": "execute_result"
    }
   ],
   "source": [
    "q2 = torch.stack([-x[..., 1::2], x[..., ::2]], dim=-1)\n",
    "q2 = q2.reshape(x.shape) \n",
    "q2 "
   ]
  },
  {
   "cell_type": "code",
   "execution_count": 27,
   "metadata": {},
   "outputs": [
    {
     "data": {
      "text/plain": [
       "tensor([[ -2.,   1., -12.,   9.],\n",
       "        [-30.,  25., -56.,  49.]])"
      ]
     },
     "execution_count": 27,
     "metadata": {},
     "output_type": "execute_result"
    }
   ],
   "source": [
    "sin_pos * q2"
   ]
  },
  {
   "cell_type": "code",
   "execution_count": 28,
   "metadata": {},
   "outputs": [
    {
     "data": {
      "text/plain": [
       "torch.Size([2, 4])"
      ]
     },
     "execution_count": 28,
     "metadata": {},
     "output_type": "execute_result"
    }
   ],
   "source": [
    "sin_pos.shape"
   ]
  },
  {
   "cell_type": "code",
   "execution_count": 29,
   "metadata": {},
   "outputs": [
    {
     "data": {
      "text/plain": [
       "tensor([[1., 1., 2., 2., 3., 3., 4., 4.],\n",
       "        [5., 5., 6., 6., 7., 7., 8., 8.]])"
      ]
     },
     "execution_count": 29,
     "metadata": {},
     "output_type": "execute_result"
    }
   ],
   "source": [
    "sin_pos = x[..., :].repeat_interleave(2, dim=-1)\n",
    "sin_pos"
   ]
  },
  {
   "cell_type": "code",
   "execution_count": 22,
   "metadata": {},
   "outputs": [],
   "source": [
    "import torch\n",
    "\n",
    "def rotate_half(x):\n",
    "    x1 = x[..., :x.shape[-1] // 2]  # 前半部分\n",
    "    x2 = x[..., x.shape[-1] // 2:]  # 后半部分\n",
    "    return torch.cat([-x2, x1], dim=-1)  # 交换并对后半部分取负\n"
   ]
  },
  {
   "cell_type": "code",
   "execution_count": 23,
   "metadata": {},
   "outputs": [
    {
     "name": "stdout",
     "output_type": "stream",
     "text": [
      "tensor([[-3., -4.,  1.,  2.],\n",
      "        [-7., -8.,  5.,  6.]])\n"
     ]
    }
   ],
   "source": [
    "# 创建示例张量\n",
    "x = torch.tensor([[1.0, 2.0, 3.0, 4.0],\n",
    "                  [5.0, 6.0, 7.0, 8.0]])\n",
    "\n",
    "# 调用 rotate_half 函数\n",
    "result = rotate_half(x)\n",
    "print(result)"
   ]
  },
  {
   "cell_type": "code",
   "execution_count": null,
   "metadata": {},
   "outputs": [],
   "source": [
    "sin_pos = pos_emb[..., ::2].repeat_interleave(2, dim=-1)  # 提取出所有sin编码，并在最后一个维度上复制\n",
    "cos_pos = pos_emb[..., 1::2].repeat_interleave(2, dim=-1)  # 提取出所有cos编码，并在最后一个维度上复制"
   ]
  },
  {
   "cell_type": "code",
   "execution_count": 36,
   "metadata": {},
   "outputs": [
    {
     "name": "stdout",
     "output_type": "stream",
     "text": [
      "Cluster labels: [3 1 0 0 2]\n"
     ]
    }
   ],
   "source": [
    "import numpy as np\n",
    "from scipy.spatial.distance import squareform\n",
    "from sklearn.cluster import AgglomerativeClustering\n",
    "\n",
    "# 中文字符串数据\n",
    "data = [\"我喜欢编程\", \"我热爱编程\", \"编程让我快乐\", \"学习让我快乐\", \"我喜欢学习\"]\n",
    "\n",
    "# 将字符串转换为字符集合\n",
    "def string_to_set(s):\n",
    "    return set(s)\n",
    "\n",
    "# 计算两个字符串的Jaccard距离\n",
    "def jaccard_distance_set(s1, s2):\n",
    "    set1, set2 = string_to_set(s1), string_to_set(s2)\n",
    "    intersection = len(set1 & set2)\n",
    "    union = len(set1 | set2)\n",
    "    return 1 - intersection / union if union != 0 else 1\n",
    "\n",
    "# 计算距离矩阵\n",
    "n = len(data)\n",
    "distance_matrix = np.zeros((n, n))\n",
    "for i in range(n):\n",
    "    for j in range(i + 1, n):\n",
    "        distance = jaccard_distance_set(data[i], data[j])\n",
    "        distance_matrix[i][j] = distance\n",
    "        distance_matrix[j][i] = distance\n",
    "\n",
    "# 使用层次聚类\n",
    "clustering = AgglomerativeClustering(\n",
    "    distance_threshold=0.52,         # 设置距离阈值\n",
    "    n_clusters=None,                # 启用距离阈值\n",
    "    metric='precomputed',           # 使用自定义距离矩阵\n",
    "    linkage='average'               # 使用平均链接\n",
    ")\n",
    "labels = clustering.fit_predict(distance_matrix)\n",
    "\n",
    "print(\"Cluster labels:\", labels)\n"
   ]
  },
  {
   "cell_type": "code",
   "execution_count": 33,
   "metadata": {},
   "outputs": [
    {
     "data": {
      "text/plain": [
       "0.5714285714285714"
      ]
     },
     "execution_count": 33,
     "metadata": {},
     "output_type": "execute_result"
    }
   ],
   "source": [
    "jaccard_distance_set('我喜欢编程','我热爱编程')"
   ]
  },
  {
   "cell_type": "code",
   "execution_count": 35,
   "metadata": {},
   "outputs": [
    {
     "data": {
      "text/plain": [
       "0.5"
      ]
     },
     "execution_count": 35,
     "metadata": {},
     "output_type": "execute_result"
    }
   ],
   "source": [
    "set1, set2 = string_to_set('学习让我快乐'), string_to_set('编程让我快乐')\n",
    "intersection = len(set1 & set2)\n",
    "union = len(set1 | set2)\n",
    "1 - intersection / union if union != 0 else 1"
   ]
  },
  {
   "cell_type": "code",
   "execution_count": 22,
   "metadata": {},
   "outputs": [
    {
     "data": {
      "text/plain": [
       "{'乐', '喜', '快', '我', '欢', '程', '编', '让'}"
      ]
     },
     "execution_count": 22,
     "metadata": {},
     "output_type": "execute_result"
    }
   ],
   "source": [
    "set1 | set2"
   ]
  },
  {
   "cell_type": "code",
   "execution_count": 20,
   "metadata": {},
   "outputs": [
    {
     "data": {
      "text/plain": [
       "3"
      ]
     },
     "execution_count": 20,
     "metadata": {},
     "output_type": "execute_result"
    }
   ],
   "source": [
    "intersection"
   ]
  },
  {
   "cell_type": "code",
   "execution_count": 21,
   "metadata": {},
   "outputs": [
    {
     "data": {
      "text/plain": [
       "8"
      ]
     },
     "execution_count": 21,
     "metadata": {},
     "output_type": "execute_result"
    }
   ],
   "source": [
    "union"
   ]
  },
  {
   "cell_type": "code",
   "execution_count": 3,
   "metadata": {},
   "outputs": [
    {
     "data": {
      "image/png": "[encoded data removed]",
      "text/plain": [
       "<Figure size 1000x700 with 1 Axes>"
      ]
     },
     "metadata": {},
     "output_type": "display_data"
    },
    {
     "name": "stdout",
     "output_type": "stream",
     "text": [
      "Clusters: [1 1 2 2]\n"
     ]
    }
   ],
   "source": [
    "import numpy as np\n",
    "from scipy.cluster.hierarchy import linkage, dendrogram, fcluster\n",
    "from scipy.spatial.distance import squareform\n",
    "from sklearn.metrics.pairwise import cosine_similarity\n",
    "from sklearn.preprocessing import MultiLabelBinarizer\n",
    "\n",
    "def custom_distance_matrix(data, labels=None):\n",
    "    \"\"\"\n",
    "    创建自定义的距离矩阵，结合余弦相似度和杰卡德距离。\n",
    "    \n",
    "    :param data: 数据点的特征矩阵 (n_samples, n_features)\n",
    "    :param labels: 如果数据是标签形式（集合），传入一个列表。\n",
    "    :return: 自定义距离矩阵\n",
    "    \"\"\"\n",
    "    if labels is not None:\n",
    "        mlb = MultiLabelBinarizer()\n",
    "        data = mlb.fit_transform(labels)\n",
    "\n",
    "    # 余弦相似性转化为距离\n",
    "    cosine_sim = cosine_similarity(data)\n",
    "    cosine_dist = 1 - cosine_sim\n",
    "\n",
    "    # 计算杰卡德距离\n",
    "    def jaccard_distance(set_a, set_b):\n",
    "        intersection = np.logical_and(set_a, set_b).sum()\n",
    "        union = np.logical_or(set_a, set_b).sum()\n",
    "        return 1 - intersection / union if union != 0 else 1\n",
    "\n",
    "    jaccard_dist = np.zeros((len(data), len(data)))\n",
    "    for i in range(len(data)):\n",
    "        for j in range(len(data)):\n",
    "            jaccard_dist[i, j] = jaccard_distance(data[i], data[j])\n",
    "\n",
    "    # 组合距离矩阵\n",
    "    combined_dist = 0.5 * cosine_dist + 0.5 * jaccard_dist\n",
    "\n",
    "    # 确保对角线为0\n",
    "    np.fill_diagonal(combined_dist, 0)\n",
    "    return combined_dist\n",
    "\n",
    "def hierarchical_clustering(data, labels=None, method='average', threshold=0.7):\n",
    "    \"\"\"\n",
    "    执行层次聚类，使用自定义距离矩阵。\n",
    "    \n",
    "    :param data: 数据点的特征矩阵 (n_samples, n_features)\n",
    "    :param labels: 如果数据是标签形式（集合），传入一个列表。\n",
    "    :param method: 层次聚类的方法，例如 'average', 'single', 'complete'\n",
    "    :param threshold: 距离阈值，确定聚类数量\n",
    "    :return: 聚类结果\n",
    "    \"\"\"\n",
    "    dist_matrix = custom_distance_matrix(data, labels)\n",
    "    # 压缩成下三角形式的距离矩阵\n",
    "    condensed_dist_matrix = squareform(dist_matrix, checks=False)\n",
    "    linkage_matrix = linkage(condensed_dist_matrix, method=method)\n",
    "    clusters = fcluster(linkage_matrix, t=threshold, criterion='distance')\n",
    "    return clusters, linkage_matrix\n",
    "\n",
    "# 示例数据\n",
    "data = np.array([[1, 0, 1, 0], [1, 1, 1, 0], [0, 1, 0, 1], [0, 0, 1, 1]])\n",
    "labels = [['apple', 'banana'], ['apple'], ['banana', 'orange'], ['orange']]\n",
    "\n",
    "# 聚类\n",
    "clusters, linkage_matrix = hierarchical_clustering(data, labels)\n",
    "\n",
    "# 可视化树状图\n",
    "import matplotlib.pyplot as plt\n",
    "\n",
    "plt.figure(figsize=(10, 7))\n",
    "dendrogram(linkage_matrix, labels=[f\"Data {i}\" for i in range(len(data))])\n",
    "plt.title(\"Hierarchical Clustering Dendrogram\")\n",
    "plt.xlabel(\"Data Points\")\n",
    "plt.ylabel(\"Distance\")\n",
    "plt.show()\n",
    "\n",
    "print(\"Clusters:\", clusters)\n",
    "\n",
    "\n"
   ]
  },
  {
   "cell_type": "code",
   "execution_count": null,
   "metadata": {},
   "outputs": [],
   "source": []
  }
 ],
 "metadata": {
  "kernelspec": {
   "display_name": "base",
   "language": "python",
   "name": "python3"
  },
  "language_info": {
   "codemirror_mode": {
    "name": "ipython",
    "version": 3
   },
   "file_extension": ".py",
   "mimetype": "text/x-python",
   "name": "python",
   "nbconvert_exporter": "python",
   "pygments_lexer": "ipython3",
   "version": "3.9.15"
  }
 },
 "nbformat": 4,
 "nbformat_minor": 2
}
